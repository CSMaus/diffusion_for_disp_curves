{
 "cells": [
  {
   "cell_type": "code",
   "execution_count": null,
   "id": "6a73974c",
   "metadata": {},
   "outputs": [],
   "source": []
  },
  {
   "cell_type": "code",
   "execution_count": 1,
   "id": "6ca76cea",
   "metadata": {},
   "outputs": [],
   "source": [
    "import pathlib\n",
    "import pandas as pd\n",
    "import os\n",
    "import matplotlib.pyplot as plt\n",
    "import numpy as np"
   ]
  },
  {
   "cell_type": "markdown",
   "id": "2e5f4002",
   "metadata": {},
   "source": [
    "# params"
   ]
  },
  {
   "cell_type": "code",
   "execution_count": 9,
   "id": "b70b8eb6",
   "metadata": {},
   "outputs": [],
   "source": [
    "data_folder = 'D:/ML_DL_AI_stuff/!DispCurves_Proj/disp_data/'\n",
    "\n",
    "# each file in datafolder contains data 5 modes (to the moment). see 'plot_separate_disp_curv' script\n",
    "# but for the first time I want tot usnly first modes\n",
    "n_modes = 5 \n",
    "main_folder = 'for_NN_sorted/'\n",
    "train_folder = main_folder+'train/'\n",
    "valid_folder = main_folder+'valid/'\n",
    "test_folder = main_folder+'test/'"
   ]
  },
  {
   "cell_type": "markdown",
   "id": "4a1834fe",
   "metadata": {},
   "source": [
    "# functions"
   ]
  },
  {
   "cell_type": "code",
   "execution_count": 2,
   "id": "ef79213c",
   "metadata": {},
   "outputs": [],
   "source": [
    "def create_img_from_csv(file):\n",
    "    df_test = pd.read_csv(file, header=None)\n",
    "    df_as_np = df_test.to_numpy()\n",
    "    \n",
    "    len_v, cols = np.shape(df_as_np)  # len of vector and number of collumns (vectors)\n",
    "    # print(len_v, cols)\n",
    "    \n",
    "    k_test = df_as_np[:, 3][:len_v]  # wavenumber\n",
    "    k_test = k_test/np.amax(k_test)\n",
    "    f_test = df_as_np[:, 5][:len_v]  # frequency\n",
    "    \n",
    "    # plt.scatter(k_test, f_test)\n",
    "    return k_test, f_test"
   ]
  },
  {
   "cell_type": "code",
   "execution_count": 3,
   "id": "cd0e751f",
   "metadata": {},
   "outputs": [],
   "source": [
    "def take_wave_data(file, num_curves=5, lenv=500):\n",
    "    \n",
    "    df = pd.read_csv(file, header=None)\n",
    "    # df_as_np = df.to_numpy()\n",
    "    \n",
    "    freq_5_curves = []\n",
    "    \n",
    "    for i in range(num_curves):\n",
    "        freq_5_curves.append((df[5][i:lenv+i:5]).to_numpy())\n",
    "    \n",
    "    return freq_5_curves"
   ]
  },
  {
   "cell_type": "code",
   "execution_count": 29,
   "id": "c0d216b2",
   "metadata": {},
   "outputs": [],
   "source": [
    "def create_input_curves(folder, curv_num=0):\n",
    "    one_mode_ds = []\n",
    "    lbls_ds = []\n",
    "    \n",
    "    for file in os.listdir(os.path.join(folder)):\n",
    "        \n",
    "        df = pd.read_csv(folder+file, header=None)\n",
    "        \n",
    "        # curve_data = []\n",
    "        # for i in range(5):\n",
    "        # curve_data.append((df[4][curv_num:500+curv_num:5]).to_numpy())\n",
    "        \n",
    "        one_mode_ds.append(((df[5][curv_num:500+curv_num:5])/250000).to_numpy())\n",
    "        lbls_ds.append(np.array([df[0][0], df[1][0], df[2][0]]))\n",
    "        \n",
    "        \n",
    "    return np.array(one_mode_ds), np.array(lbls_ds)"
   ]
  },
  {
   "cell_type": "markdown",
   "id": "d082d91b",
   "metadata": {},
   "source": [
    "# model"
   ]
  },
  {
   "cell_type": "code",
   "execution_count": 7,
   "id": "f8240064",
   "metadata": {},
   "outputs": [],
   "source": [
    "import torch\n",
    "import torch.nn as nn\n",
    "from torch.utils.data import TensorDataset, DataLoader"
   ]
  },
  {
   "cell_type": "code",
   "execution_count": 209,
   "id": "8becc058",
   "metadata": {},
   "outputs": [],
   "source": [
    "class DiffusionModel(nn.Module):\n",
    "    def __init__(self, input_dim, label_dim, hidden_dim, num_layers, num_iterations):\n",
    "        super().__init__()\n",
    "        self.input_dim = input_dim\n",
    "        self.label_dim = label_dim\n",
    "        self.hidden_dim = hidden_dim\n",
    "        self.num_layers = num_layers\n",
    "        self.num_iterations = num_iterations\n",
    "        \n",
    "        # adding noise layer\n",
    "        self.noise_layer = nn.Linear(input_dim, input_dim)\n",
    "\n",
    "        self.label_embedding = nn.Embedding(label_dim, hidden_dim)\n",
    "        self.input_layer = nn.Linear(input_dim + hidden_dim, hidden_dim)\n",
    "        self.transforms = nn.ModuleList()\n",
    "        for _ in range(num_layers):\n",
    "            self.transforms.append(nn.Linear(hidden_dim, hidden_dim))\n",
    "\n",
    "    def forward(self, x, label):\n",
    "        for i in range(self.num_iterations):\n",
    "            # add noise to the input\n",
    "            x = self.noise_layer(x) * torch.randn_like(x).float()\n",
    "        \n",
    "        \n",
    "            # label = label.view(-1, self.label_dim)\n",
    "            \n",
    "            # concatenate the label embedding and the input\n",
    "            label_embed = self.label_embedding(label)\n",
    "            x = torch.cat([x, label_embed], dim=-1)\n",
    "            x = self.input_layer(x)\n",
    "\n",
    "            # apply the series of transformations\n",
    "            for transform in self.transforms:\n",
    "                x = torch.tanh(transform(x))\n",
    "        return x\n",
    "            \n",
    "    def loss(self, x, label, observed_data):\n",
    "        generated_data = self.forward(x, label)\n",
    "        likelihood = torch.distributions.normal.Normal(generated_data, torch.ones_like(generated_data))\n",
    "        log_likelihood = likelihood.log_prob(observed_data)\n",
    "        return -torch.mean(log_likelihood)"
   ]
  },
  {
   "cell_type": "code",
   "execution_count": 210,
   "id": "42f2f98b",
   "metadata": {},
   "outputs": [
    {
     "data": {
      "text/plain": [
       "Embedding(3, 97)"
      ]
     },
     "execution_count": 210,
     "metadata": {},
     "output_type": "execute_result"
    }
   ],
   "source": [
    "nn.Embedding(label_dim, hidden_dim)"
   ]
  },
  {
   "cell_type": "code",
   "execution_count": null,
   "id": "32d7693c",
   "metadata": {},
   "outputs": [],
   "source": []
  },
  {
   "cell_type": "code",
   "execution_count": null,
   "id": "bd96f0b3",
   "metadata": {},
   "outputs": [],
   "source": []
  },
  {
   "cell_type": "code",
   "execution_count": 211,
   "id": "d14542ee",
   "metadata": {},
   "outputs": [],
   "source": [
    "# print(labels[10], labels[111])\n",
    "# plt.plot(dataset[10])\n",
    "# plt.plot(dataset[111])"
   ]
  },
  {
   "cell_type": "code",
   "execution_count": 212,
   "id": "cb7466d7",
   "metadata": {},
   "outputs": [],
   "source": [
    "dataset, labels = create_input_curves(data_folder+train_folder)\n",
    "# convert numpy arrays to PyTorch tensors\n",
    "dataset = dataset.astype(np.float32)\n",
    "dataset = torch.from_numpy(dataset)# .float()\n",
    "labels = torch.from_numpy(labels) # .float()"
   ]
  },
  {
   "cell_type": "code",
   "execution_count": 213,
   "id": "a40fa424",
   "metadata": {},
   "outputs": [],
   "source": [
    "# create a TensorDataset\n",
    "train_dataset = TensorDataset(dataset, labels)"
   ]
  },
  {
   "cell_type": "markdown",
   "id": "46e4f2be",
   "metadata": {},
   "source": [
    "### train parameters"
   ]
  },
  {
   "cell_type": "code",
   "execution_count": 214,
   "id": "573f0555",
   "metadata": {},
   "outputs": [
    {
     "data": {
      "text/plain": [
       "100"
      ]
     },
     "execution_count": 214,
     "metadata": {},
     "output_type": "execute_result"
    }
   ],
   "source": [
    "len(dataset[0])"
   ]
  },
  {
   "cell_type": "code",
   "execution_count": 215,
   "id": "5199c82d",
   "metadata": {},
   "outputs": [],
   "source": [
    "batch_size = 16\n",
    "learning_rate = 0.0001\n",
    "num_epochs = 100\n",
    "\n",
    "\n",
    "input_dim = 100  # len(dataset[0])\n",
    "label_dim = 3    # len(labels[0])\n",
    "hidden_dim = 97  # int(input_dim*1.5)\n",
    "num_layers = 3   # 5\n",
    "num_iters = 300"
   ]
  },
  {
   "cell_type": "code",
   "execution_count": 216,
   "id": "c5dcf789",
   "metadata": {},
   "outputs": [],
   "source": [
    "# create a DataLoader\n",
    "train_loader = DataLoader(train_dataset, batch_size=batch_size, shuffle=True)"
   ]
  },
  {
   "cell_type": "code",
   "execution_count": 217,
   "id": "c4f6cb5c",
   "metadata": {},
   "outputs": [],
   "source": [
    "# initialize the model\n",
    "model = DiffusionModel(input_dim, label_dim, \n",
    "                       hidden_dim, num_layers, num_iters)# .double()"
   ]
  },
  {
   "cell_type": "code",
   "execution_count": 218,
   "id": "45eabb6d",
   "metadata": {},
   "outputs": [],
   "source": [
    "# define the loss function and optimizer\n",
    "# criterion = nn.MSELoss()\n",
    "optimizer = torch.optim.Adam(model.parameters(), lr=learning_rate)"
   ]
  },
  {
   "cell_type": "code",
   "execution_count": 219,
   "id": "e764c4d8",
   "metadata": {},
   "outputs": [
    {
     "name": "stderr",
     "output_type": "stream",
     "text": [
      "C:\\Users\\Ksenia\\AppData\\Local\\Temp/ipykernel_15240/2596821714.py:5: UserWarning: To copy construct from a tensor, it is recommended to use sourceTensor.clone().detach() or sourceTensor.clone().detach().requires_grad_(True), rather than torch.tensor(sourceTensor).\n",
      "  outputs = model(data, torch.tensor(label, dtype=torch.long))\n"
     ]
    },
    {
     "ename": "RuntimeError",
     "evalue": "Tensors must have same number of dimensions: got 2 and 3",
     "output_type": "error",
     "traceback": [
      "\u001b[1;31m---------------------------------------------------------------------------\u001b[0m",
      "\u001b[1;31mRuntimeError\u001b[0m                              Traceback (most recent call last)",
      "\u001b[1;32m~\\AppData\\Local\\Temp/ipykernel_15240/2596821714.py\u001b[0m in \u001b[0;36m<module>\u001b[1;34m\u001b[0m\n\u001b[0;32m      3\u001b[0m     \u001b[1;32mfor\u001b[0m \u001b[0mi\u001b[0m\u001b[1;33m,\u001b[0m \u001b[1;33m(\u001b[0m\u001b[0mdata\u001b[0m\u001b[1;33m,\u001b[0m \u001b[0mlabel\u001b[0m\u001b[1;33m)\u001b[0m \u001b[1;32min\u001b[0m \u001b[0menumerate\u001b[0m\u001b[1;33m(\u001b[0m\u001b[0mtrain_loader\u001b[0m\u001b[1;33m)\u001b[0m\u001b[1;33m:\u001b[0m\u001b[1;33m\u001b[0m\u001b[1;33m\u001b[0m\u001b[0m\n\u001b[0;32m      4\u001b[0m         \u001b[0moptimizer\u001b[0m\u001b[1;33m.\u001b[0m\u001b[0mzero_grad\u001b[0m\u001b[1;33m(\u001b[0m\u001b[1;33m)\u001b[0m\u001b[1;33m\u001b[0m\u001b[1;33m\u001b[0m\u001b[0m\n\u001b[1;32m----> 5\u001b[1;33m         \u001b[0moutputs\u001b[0m \u001b[1;33m=\u001b[0m \u001b[0mmodel\u001b[0m\u001b[1;33m(\u001b[0m\u001b[0mdata\u001b[0m\u001b[1;33m,\u001b[0m \u001b[0mtorch\u001b[0m\u001b[1;33m.\u001b[0m\u001b[0mtensor\u001b[0m\u001b[1;33m(\u001b[0m\u001b[0mlabel\u001b[0m\u001b[1;33m,\u001b[0m \u001b[0mdtype\u001b[0m\u001b[1;33m=\u001b[0m\u001b[0mtorch\u001b[0m\u001b[1;33m.\u001b[0m\u001b[0mlong\u001b[0m\u001b[1;33m)\u001b[0m\u001b[1;33m)\u001b[0m\u001b[1;33m\u001b[0m\u001b[1;33m\u001b[0m\u001b[0m\n\u001b[0m\u001b[0;32m      6\u001b[0m         \u001b[1;31m# loss = criterion(outputs, data)\u001b[0m\u001b[1;33m\u001b[0m\u001b[1;33m\u001b[0m\u001b[0m\n\u001b[0;32m      7\u001b[0m         \u001b[0mloss\u001b[0m \u001b[1;33m=\u001b[0m \u001b[0mmodel\u001b[0m\u001b[1;33m.\u001b[0m\u001b[0mloss\u001b[0m\u001b[1;33m(\u001b[0m\u001b[0moutputs\u001b[0m\u001b[1;33m,\u001b[0m \u001b[0mobserved_data\u001b[0m\u001b[1;33m)\u001b[0m\u001b[1;33m\u001b[0m\u001b[1;33m\u001b[0m\u001b[0m\n",
      "\u001b[1;32m~\\AppData\\Local\\Programs\\Python\\Python39\\lib\\site-packages\\torch\\nn\\modules\\module.py\u001b[0m in \u001b[0;36m_call_impl\u001b[1;34m(self, *input, **kwargs)\u001b[0m\n\u001b[0;32m   1128\u001b[0m         if not (self._backward_hooks or self._forward_hooks or self._forward_pre_hooks or _global_backward_hooks\n\u001b[0;32m   1129\u001b[0m                 or _global_forward_hooks or _global_forward_pre_hooks):\n\u001b[1;32m-> 1130\u001b[1;33m             \u001b[1;32mreturn\u001b[0m \u001b[0mforward_call\u001b[0m\u001b[1;33m(\u001b[0m\u001b[1;33m*\u001b[0m\u001b[0minput\u001b[0m\u001b[1;33m,\u001b[0m \u001b[1;33m**\u001b[0m\u001b[0mkwargs\u001b[0m\u001b[1;33m)\u001b[0m\u001b[1;33m\u001b[0m\u001b[1;33m\u001b[0m\u001b[0m\n\u001b[0m\u001b[0;32m   1131\u001b[0m         \u001b[1;31m# Do not call functions when jit is used\u001b[0m\u001b[1;33m\u001b[0m\u001b[1;33m\u001b[0m\u001b[0m\n\u001b[0;32m   1132\u001b[0m         \u001b[0mfull_backward_hooks\u001b[0m\u001b[1;33m,\u001b[0m \u001b[0mnon_full_backward_hooks\u001b[0m \u001b[1;33m=\u001b[0m \u001b[1;33m[\u001b[0m\u001b[1;33m]\u001b[0m\u001b[1;33m,\u001b[0m \u001b[1;33m[\u001b[0m\u001b[1;33m]\u001b[0m\u001b[1;33m\u001b[0m\u001b[1;33m\u001b[0m\u001b[0m\n",
      "\u001b[1;32m~\\AppData\\Local\\Temp/ipykernel_15240/3435787254.py\u001b[0m in \u001b[0;36mforward\u001b[1;34m(self, x, label)\u001b[0m\n\u001b[0;32m     27\u001b[0m             \u001b[1;31m# concatenate the label embedding and the input\u001b[0m\u001b[1;33m\u001b[0m\u001b[1;33m\u001b[0m\u001b[0m\n\u001b[0;32m     28\u001b[0m             \u001b[0mlabel_embed\u001b[0m \u001b[1;33m=\u001b[0m \u001b[0mself\u001b[0m\u001b[1;33m.\u001b[0m\u001b[0mlabel_embedding\u001b[0m\u001b[1;33m(\u001b[0m\u001b[0mlabel\u001b[0m\u001b[1;33m)\u001b[0m\u001b[1;33m\u001b[0m\u001b[1;33m\u001b[0m\u001b[0m\n\u001b[1;32m---> 29\u001b[1;33m             \u001b[0mx\u001b[0m \u001b[1;33m=\u001b[0m \u001b[0mtorch\u001b[0m\u001b[1;33m.\u001b[0m\u001b[0mcat\u001b[0m\u001b[1;33m(\u001b[0m\u001b[1;33m[\u001b[0m\u001b[0mx\u001b[0m\u001b[1;33m,\u001b[0m \u001b[0mlabel_embed\u001b[0m\u001b[1;33m]\u001b[0m\u001b[1;33m,\u001b[0m \u001b[0mdim\u001b[0m\u001b[1;33m=\u001b[0m\u001b[1;33m-\u001b[0m\u001b[1;36m1\u001b[0m\u001b[1;33m)\u001b[0m\u001b[1;33m\u001b[0m\u001b[1;33m\u001b[0m\u001b[0m\n\u001b[0m\u001b[0;32m     30\u001b[0m             \u001b[0mx\u001b[0m \u001b[1;33m=\u001b[0m \u001b[0mself\u001b[0m\u001b[1;33m.\u001b[0m\u001b[0minput_layer\u001b[0m\u001b[1;33m(\u001b[0m\u001b[0mx\u001b[0m\u001b[1;33m)\u001b[0m\u001b[1;33m\u001b[0m\u001b[1;33m\u001b[0m\u001b[0m\n\u001b[0;32m     31\u001b[0m \u001b[1;33m\u001b[0m\u001b[0m\n",
      "\u001b[1;31mRuntimeError\u001b[0m: Tensors must have same number of dimensions: got 2 and 3"
     ]
    }
   ],
   "source": [
    "# train the model\n",
    "for epoch in range(num_epochs):\n",
    "    for i, (data, label) in enumerate(train_loader):\n",
    "        optimizer.zero_grad()\n",
    "        outputs = model(data, torch.tensor(label, dtype=torch.long))\n",
    "        # loss = criterion(outputs, data)\n",
    "        loss = model.loss(outputs, observed_data)\n",
    "        loss.backward()\n",
    "        optimizer.step()"
   ]
  },
  {
   "cell_type": "code",
   "execution_count": 208,
   "id": "05b03ced",
   "metadata": {},
   "outputs": [
    {
     "data": {
      "text/plain": [
       "torch.Size([16, 100])"
      ]
     },
     "execution_count": 208,
     "metadata": {},
     "output_type": "execute_result"
    }
   ],
   "source": [
    "data.shape"
   ]
  },
  {
   "cell_type": "code",
   "execution_count": null,
   "id": "be2feaf1",
   "metadata": {},
   "outputs": [],
   "source": []
  },
  {
   "cell_type": "code",
   "execution_count": 119,
   "id": "031e1759",
   "metadata": {},
   "outputs": [
    {
     "name": "stdout",
     "output_type": "stream",
     "text": [
      "tensor(0.0015, dtype=torch.float64)\n",
      "<class 'torch.Tensor'>\n",
      "<class 'torch.Tensor'>\n"
     ]
    }
   ],
   "source": [
    "for i, (data, label) in enumerate(train_loader):\n",
    "    print(label[0][0])\n",
    "    print(type(data[0][0]))\n",
    "    print(type(label[0]))\n",
    "    break"
   ]
  },
  {
   "cell_type": "code",
   "execution_count": null,
   "id": "ab409900",
   "metadata": {},
   "outputs": [],
   "source": []
  },
  {
   "cell_type": "code",
   "execution_count": null,
   "id": "8be8baa9",
   "metadata": {},
   "outputs": [],
   "source": []
  },
  {
   "cell_type": "code",
   "execution_count": null,
   "id": "5f4d32a9",
   "metadata": {},
   "outputs": [],
   "source": []
  },
  {
   "cell_type": "code",
   "execution_count": null,
   "id": "8606bef9",
   "metadata": {},
   "outputs": [],
   "source": []
  },
  {
   "cell_type": "code",
   "execution_count": null,
   "id": "d45348b3",
   "metadata": {},
   "outputs": [],
   "source": []
  },
  {
   "cell_type": "code",
   "execution_count": null,
   "id": "36e20ec3",
   "metadata": {},
   "outputs": [],
   "source": []
  },
  {
   "cell_type": "code",
   "execution_count": null,
   "id": "cc91e543",
   "metadata": {},
   "outputs": [],
   "source": []
  },
  {
   "cell_type": "code",
   "execution_count": null,
   "id": "28a1ea5a",
   "metadata": {},
   "outputs": [],
   "source": []
  },
  {
   "cell_type": "code",
   "execution_count": null,
   "id": "f093f765",
   "metadata": {},
   "outputs": [],
   "source": []
  },
  {
   "cell_type": "code",
   "execution_count": null,
   "id": "acafe1ea",
   "metadata": {},
   "outputs": [],
   "source": []
  },
  {
   "cell_type": "code",
   "execution_count": null,
   "id": "4f960d04",
   "metadata": {},
   "outputs": [],
   "source": []
  },
  {
   "cell_type": "code",
   "execution_count": null,
   "id": "f55ac018",
   "metadata": {},
   "outputs": [],
   "source": []
  },
  {
   "cell_type": "code",
   "execution_count": null,
   "id": "b2a04b6d",
   "metadata": {},
   "outputs": [],
   "source": []
  },
  {
   "cell_type": "code",
   "execution_count": null,
   "id": "05dd577d",
   "metadata": {},
   "outputs": [],
   "source": []
  },
  {
   "cell_type": "code",
   "execution_count": null,
   "id": "5f5cbced",
   "metadata": {},
   "outputs": [],
   "source": []
  },
  {
   "cell_type": "code",
   "execution_count": null,
   "id": "fc6dfbc7",
   "metadata": {},
   "outputs": [],
   "source": []
  },
  {
   "cell_type": "code",
   "execution_count": null,
   "id": "73623402",
   "metadata": {},
   "outputs": [],
   "source": []
  },
  {
   "cell_type": "code",
   "execution_count": null,
   "id": "c9989829",
   "metadata": {},
   "outputs": [],
   "source": []
  }
 ],
 "metadata": {
  "kernelspec": {
   "display_name": "Python 3 (ipykernel)",
   "language": "python",
   "name": "python3"
  },
  "language_info": {
   "codemirror_mode": {
    "name": "ipython",
    "version": 3
   },
   "file_extension": ".py",
   "mimetype": "text/x-python",
   "name": "python",
   "nbconvert_exporter": "python",
   "pygments_lexer": "ipython3",
   "version": "3.9.7"
  }
 },
 "nbformat": 4,
 "nbformat_minor": 5
}
